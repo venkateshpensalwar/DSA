{
 "cells": [
  {
   "cell_type": "markdown",
   "metadata": {},
   "source": [
    "# Selection Sort"
   ]
  },
  {
   "cell_type": "code",
   "execution_count": 6,
   "metadata": {},
   "outputs": [],
   "source": [
    "# selection sort\n",
    "\n",
    "def SelectionSort(arr):\n",
    "    \n",
    "    for i in range(len(arr)):\n",
    "        \n",
    "        min_select = i                                ## Select minimum element as First\n",
    "        \n",
    "        print(\"\\nminimum selected is : \",arr[i],\"\\n\")\n",
    "        \n",
    "        for unsorted_elements in range(i+1,len(arr)):\n",
    "            \n",
    "            if arr[min_select] > arr[unsorted_elements]:               ## compare it with next element\n",
    "                \n",
    "               \n",
    "                min_select = unsorted_elements                                ## change selected element with new element\n",
    "                \n",
    "               # print(\"\\nNew_min_select : \",arr[min_select],\"unsorted_elements : \",arr[i:],\"\\n\")\n",
    "                \n",
    "            \n",
    "        print(\"Current unsorted Array : \",arr[i:]) \n",
    "        \n",
    "        arr[i],arr[min_select] = arr[min_select],arr[i]    ## swap elements with old selected elment and new minimum selected\n",
    "         \n",
    "        if(arr[i] != arr[min_select]):\n",
    "            \n",
    "                     print(\"\\n\",\"Swapping Done between : \",arr[i],\" and \",arr[min_select],\"\\n\")\n",
    "                \n",
    "                     print(\"Current Sorted Array is : \" ,arr)\n",
    "       \n",
    "        else:\n",
    "            \n",
    "                    print(\"No swapping Done\")\n",
    "            \n",
    "           \n",
    "    return arr\n",
    "       "
   ]
  },
  {
   "cell_type": "code",
   "execution_count": 7,
   "metadata": {
    "scrolled": false
   },
   "outputs": [
    {
     "name": "stdout",
     "output_type": "stream",
     "text": [
      "\n",
      "minimum selected is :  5 \n",
      "\n",
      "Current unsorted Array :  [5, 2, 9, 4, 3, 2, 1]\n",
      "\n",
      " Swapping Done between :  1  and  5 \n",
      "\n",
      "Current Sorted Array is :  [1, 2, 9, 4, 3, 2, 5]\n",
      "\n",
      "minimum selected is :  2 \n",
      "\n",
      "Current unsorted Array :  [2, 9, 4, 3, 2, 5]\n",
      "No swapping Done\n",
      "\n",
      "minimum selected is :  9 \n",
      "\n",
      "Current unsorted Array :  [9, 4, 3, 2, 5]\n",
      "\n",
      " Swapping Done between :  2  and  9 \n",
      "\n",
      "Current Sorted Array is :  [1, 2, 2, 4, 3, 9, 5]\n",
      "\n",
      "minimum selected is :  4 \n",
      "\n",
      "Current unsorted Array :  [4, 3, 9, 5]\n",
      "\n",
      " Swapping Done between :  3  and  4 \n",
      "\n",
      "Current Sorted Array is :  [1, 2, 2, 3, 4, 9, 5]\n",
      "\n",
      "minimum selected is :  4 \n",
      "\n",
      "Current unsorted Array :  [4, 9, 5]\n",
      "No swapping Done\n",
      "\n",
      "minimum selected is :  9 \n",
      "\n",
      "Current unsorted Array :  [9, 5]\n",
      "\n",
      " Swapping Done between :  5  and  9 \n",
      "\n",
      "Current Sorted Array is :  [1, 2, 2, 3, 4, 5, 9]\n",
      "\n",
      "minimum selected is :  9 \n",
      "\n",
      "Current unsorted Array :  [9]\n",
      "No swapping Done\n"
     ]
    },
    {
     "data": {
      "text/plain": [
       "[1, 2, 2, 3, 4, 5, 9]"
      ]
     },
     "execution_count": 7,
     "metadata": {},
     "output_type": "execute_result"
    }
   ],
   "source": [
    "# array is not sorted\n",
    "SelectionSort([5,2,9,4,3,2,1])"
   ]
  },
  {
   "cell_type": "code",
   "execution_count": 9,
   "metadata": {},
   "outputs": [
    {
     "name": "stdout",
     "output_type": "stream",
     "text": [
      "\n",
      "minimum selected is :  1 \n",
      "\n",
      "Current unsorted Array :  [1, 2, 3]\n",
      "No swapping Done\n",
      "\n",
      "minimum selected is :  2 \n",
      "\n",
      "Current unsorted Array :  [2, 3]\n",
      "No swapping Done\n",
      "\n",
      "minimum selected is :  3 \n",
      "\n",
      "Current unsorted Array :  [3]\n",
      "No swapping Done\n"
     ]
    },
    {
     "data": {
      "text/plain": [
       "[1, 2, 3]"
      ]
     },
     "execution_count": 9,
     "metadata": {},
     "output_type": "execute_result"
    }
   ],
   "source": [
    "# array already sorted\n",
    "SelectionSort([1,2,3])"
   ]
  },
  {
   "cell_type": "markdown",
   "metadata": {},
   "source": [
    "# Time Complexity"
   ]
  },
  {
   "cell_type": "markdown",
   "metadata": {},
   "source": [
    "### Worst-case performance: O(n<sup>2</sup>)\n"
   ]
  },
  {
   "cell_type": "markdown",
   "metadata": {},
   "source": [
    "### Best-case performance: Ω(n<sup>2</sup>)"
   ]
  },
  {
   "cell_type": "markdown",
   "metadata": {},
   "source": [
    "### Average-case performance: θ(n<sup>2</sup>)"
   ]
  },
  {
   "cell_type": "code",
   "execution_count": null,
   "metadata": {},
   "outputs": [],
   "source": []
  }
 ],
 "metadata": {
  "kernelspec": {
   "display_name": "Python 3",
   "language": "python",
   "name": "python3"
  },
  "language_info": {
   "codemirror_mode": {
    "name": "ipython",
    "version": 3
   },
   "file_extension": ".py",
   "mimetype": "text/x-python",
   "name": "python",
   "nbconvert_exporter": "python",
   "pygments_lexer": "ipython3",
   "version": "3.8.3"
  }
 },
 "nbformat": 4,
 "nbformat_minor": 4
}
