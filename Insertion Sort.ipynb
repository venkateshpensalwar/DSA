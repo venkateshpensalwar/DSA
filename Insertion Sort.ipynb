{
 "cells": [
  {
   "cell_type": "markdown",
   "metadata": {},
   "source": [
    "# insertion Sort"
   ]
  },
  {
   "cell_type": "code",
   "execution_count": 97,
   "metadata": {},
   "outputs": [],
   "source": [
    "# insertion sort algorithm\n",
    "\n",
    "def InsertionSort(arr):\n",
    "    \n",
    "    for i in range(1,len(arr)):\n",
    "        \n",
    "        position = i                                   ## current positions\n",
    "        \n",
    "        CurrentValue = arr[i]                         ## current position value\n",
    "        \n",
    "        while position > 0 and arr[position-1] > CurrentValue:   ## check From 1 that last value is > current value\n",
    "            \n",
    "            print(\"current position is : \",position,\" Assume sorted element : \",arr[position - 1],\n",
    "                  \" Assume unsorted element : \",CurrentValue,\"\\n\",arr[position-1],\">\",CurrentValue,\"\\n\")\n",
    "            \n",
    "            arr[position] = arr[position - 1]    \n",
    "            \n",
    "            ## if while condition is true overide Assumed Unsorted element position with value of Assumed sorted element\n",
    "            \n",
    "          \n",
    "            print(\"push Assumed sorted element {} To the right side\".format(arr[position]),\"\\n\")\n",
    "            \n",
    "            \n",
    "            position = position - 1          ## change position to current position-1 for Assumed sorted element insert\n",
    "            \n",
    "        \n",
    "        arr[position] = CurrentValue       ## assign Assumed sorted element to this postion\n",
    "        \n",
    "        print(\"Current array is : \",arr)\n",
    "        \n",
    "        print(\"-----------------------------------------------------------\")\n",
    "        \n",
    "    return arr"
   ]
  },
  {
   "cell_type": "code",
   "execution_count": 101,
   "metadata": {},
   "outputs": [
    {
     "name": "stdout",
     "output_type": "stream",
     "text": [
      "current position is :  1  Assume sorted element :  6  Assume unsorted element :  5 \n",
      " 6 > 5 \n",
      "\n",
      "push Assumed sorted element 6 To the right side \n",
      "\n",
      "Current array is :  [5, 6, 2, 3, 1]\n",
      "-----------------------------------------------------------\n",
      "current position is :  2  Assume sorted element :  6  Assume unsorted element :  2 \n",
      " 6 > 2 \n",
      "\n",
      "push Assumed sorted element 6 To the right side \n",
      "\n",
      "current position is :  1  Assume sorted element :  5  Assume unsorted element :  2 \n",
      " 5 > 2 \n",
      "\n",
      "push Assumed sorted element 5 To the right side \n",
      "\n",
      "Current array is :  [2, 5, 6, 3, 1]\n",
      "-----------------------------------------------------------\n",
      "current position is :  3  Assume sorted element :  6  Assume unsorted element :  3 \n",
      " 6 > 3 \n",
      "\n",
      "push Assumed sorted element 6 To the right side \n",
      "\n",
      "current position is :  2  Assume sorted element :  5  Assume unsorted element :  3 \n",
      " 5 > 3 \n",
      "\n",
      "push Assumed sorted element 5 To the right side \n",
      "\n",
      "Current array is :  [2, 3, 5, 6, 1]\n",
      "-----------------------------------------------------------\n",
      "current position is :  4  Assume sorted element :  6  Assume unsorted element :  1 \n",
      " 6 > 1 \n",
      "\n",
      "push Assumed sorted element 6 To the right side \n",
      "\n",
      "current position is :  3  Assume sorted element :  5  Assume unsorted element :  1 \n",
      " 5 > 1 \n",
      "\n",
      "push Assumed sorted element 5 To the right side \n",
      "\n",
      "current position is :  2  Assume sorted element :  3  Assume unsorted element :  1 \n",
      " 3 > 1 \n",
      "\n",
      "push Assumed sorted element 3 To the right side \n",
      "\n",
      "current position is :  1  Assume sorted element :  2  Assume unsorted element :  1 \n",
      " 2 > 1 \n",
      "\n",
      "push Assumed sorted element 2 To the right side \n",
      "\n",
      "Current array is :  [1, 2, 3, 5, 6]\n",
      "-----------------------------------------------------------\n"
     ]
    },
    {
     "data": {
      "text/plain": [
       "[1, 2, 3, 5, 6]"
      ]
     },
     "execution_count": 101,
     "metadata": {},
     "output_type": "execute_result"
    }
   ],
   "source": [
    "InsertionSort([6,5,2,3,1])"
   ]
  },
  {
   "cell_type": "code",
   "execution_count": 102,
   "metadata": {},
   "outputs": [
    {
     "name": "stdout",
     "output_type": "stream",
     "text": [
      "Current array is :  [1, 2, 3, 4, 5]\n",
      "-----------------------------------------------------------\n",
      "Current array is :  [1, 2, 3, 4, 5]\n",
      "-----------------------------------------------------------\n",
      "Current array is :  [1, 2, 3, 4, 5]\n",
      "-----------------------------------------------------------\n",
      "Current array is :  [1, 2, 3, 4, 5]\n",
      "-----------------------------------------------------------\n"
     ]
    },
    {
     "data": {
      "text/plain": [
       "[1, 2, 3, 4, 5]"
      ]
     },
     "execution_count": 102,
     "metadata": {},
     "output_type": "execute_result"
    }
   ],
   "source": [
    "InsertionSort([1,2,3,4,5])"
   ]
  },
  {
   "cell_type": "markdown",
   "metadata": {},
   "source": [
    "# Time Complexity"
   ]
  },
  {
   "cell_type": "markdown",
   "metadata": {},
   "source": [
    "### Worst-case performance: O(n<sup>2</sup>)"
   ]
  },
  {
   "cell_type": "markdown",
   "metadata": {},
   "source": [
    "### Best-case performance: Ω(n)"
   ]
  },
  {
   "cell_type": "markdown",
   "metadata": {},
   "source": [
    "### Average-case performance: θ(n<sup>2</sup>)"
   ]
  },
  {
   "cell_type": "code",
   "execution_count": null,
   "metadata": {},
   "outputs": [],
   "source": []
  }
 ],
 "metadata": {
  "kernelspec": {
   "display_name": "Python 3",
   "language": "python",
   "name": "python3"
  },
  "language_info": {
   "codemirror_mode": {
    "name": "ipython",
    "version": 3
   },
   "file_extension": ".py",
   "mimetype": "text/x-python",
   "name": "python",
   "nbconvert_exporter": "python",
   "pygments_lexer": "ipython3",
   "version": "3.8.3"
  }
 },
 "nbformat": 4,
 "nbformat_minor": 4
}
