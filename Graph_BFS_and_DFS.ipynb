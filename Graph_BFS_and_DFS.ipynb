{
 "cells": [
  {
   "cell_type": "code",
   "execution_count": 66,
   "id": "2a775d91",
   "metadata": {},
   "outputs": [],
   "source": [
    "## BFS breadth first search and DFS depth first search\n",
    "\n",
    "class graph:\n",
    "    def __init__(self,graph=None):\n",
    "        self.graph = graph\n",
    "    def bfs(self,vertex):\n",
    "        queue = [vertex]\n",
    "        visited = [vertex]\n",
    "        while queue:\n",
    "            print(\"Current queue:-\",queue)\n",
    "            print(\"Current Visited Vertex:-\" ,visited)\n",
    "            dequeVertex = queue.pop(0)\n",
    "            print(\"Poped Vertex:-\",dequeVertex)\n",
    "            print(\"--------------------------------------\")\n",
    "            for adjecentvertex in self.graph[dequeVertex]:\n",
    "                if adjecentvertex not in visited:\n",
    "                    # enqueue : aff into queue\n",
    "                    queue.append(adjecentvertex)\n",
    "                    # mark it as visited\n",
    "                    visited.append(adjecentvertex)\n",
    "    \n",
    "    def dfs(self,vertex):\n",
    "        stack = [vertex]\n",
    "        visited = [vertex]\n",
    "        while stack:\n",
    "            print(\"Current stack:-\",stack)\n",
    "            print(\"Current Visited Vertex:-\" ,visited)\n",
    "            popVertex = stack.pop()\n",
    "            print(\"Poped Vertex:-\",popVertex)\n",
    "            print(\"--------------------------------------\")\n",
    "            for adjecentvertex in self.graph[popVertex]:\n",
    "                if adjecentvertex not in visited:\n",
    "                    # push : aff into queue\n",
    "                    stack.append(adjecentvertex)\n",
    "                    # mark it as visited\n",
    "                    visited.append(adjecentvertex)\n",
    "        "
   ]
  },
  {
   "cell_type": "code",
   "execution_count": 67,
   "id": "15c709cb",
   "metadata": {},
   "outputs": [],
   "source": [
    "MyLinkedIn = {\n",
    "    \"friend1\" : ['friend2','friend3'],\n",
    "    \"friend5\" : ['friend3','friend1'],\n",
    "    \"friend2\" : ['friend4','friend5'],\n",
    "    \"friend3\" : ['friend1','friend2'],\n",
    "    \"friend4\" : ['friend2','friend3']\n",
    "   \n",
    "}"
   ]
  },
  {
   "cell_type": "code",
   "execution_count": 68,
   "id": "9a16a003",
   "metadata": {},
   "outputs": [],
   "source": [
    "newgraph = graph(MyLinkedIn)"
   ]
  },
  {
   "cell_type": "code",
   "execution_count": 69,
   "id": "57848eea",
   "metadata": {},
   "outputs": [
    {
     "name": "stdout",
     "output_type": "stream",
     "text": [
      "Current queue:- ['friend1']\n",
      "Current Visited Vertex:- ['friend1']\n",
      "Poped Vertex:- friend1\n",
      "--------------------------------------\n",
      "Current queue:- ['friend2', 'friend3']\n",
      "Current Visited Vertex:- ['friend1', 'friend2', 'friend3']\n",
      "Poped Vertex:- friend2\n",
      "--------------------------------------\n",
      "Current queue:- ['friend3', 'friend4', 'friend5']\n",
      "Current Visited Vertex:- ['friend1', 'friend2', 'friend3', 'friend4', 'friend5']\n",
      "Poped Vertex:- friend3\n",
      "--------------------------------------\n",
      "Current queue:- ['friend4', 'friend5']\n",
      "Current Visited Vertex:- ['friend1', 'friend2', 'friend3', 'friend4', 'friend5']\n",
      "Poped Vertex:- friend4\n",
      "--------------------------------------\n",
      "Current queue:- ['friend5']\n",
      "Current Visited Vertex:- ['friend1', 'friend2', 'friend3', 'friend4', 'friend5']\n",
      "Poped Vertex:- friend5\n",
      "--------------------------------------\n"
     ]
    }
   ],
   "source": [
    "newgraph.bfs('friend1')"
   ]
  },
  {
   "cell_type": "code",
   "execution_count": 70,
   "id": "b8eede69",
   "metadata": {},
   "outputs": [
    {
     "name": "stdout",
     "output_type": "stream",
     "text": [
      "Current stack:- ['friend1']\n",
      "Current Visited Vertex:- ['friend1']\n",
      "Poped Vertex:- friend1\n",
      "--------------------------------------\n",
      "Current stack:- ['friend2', 'friend3']\n",
      "Current Visited Vertex:- ['friend1', 'friend2', 'friend3']\n",
      "Poped Vertex:- friend3\n",
      "--------------------------------------\n",
      "Current stack:- ['friend2']\n",
      "Current Visited Vertex:- ['friend1', 'friend2', 'friend3']\n",
      "Poped Vertex:- friend2\n",
      "--------------------------------------\n",
      "Current stack:- ['friend4', 'friend5']\n",
      "Current Visited Vertex:- ['friend1', 'friend2', 'friend3', 'friend4', 'friend5']\n",
      "Poped Vertex:- friend5\n",
      "--------------------------------------\n",
      "Current stack:- ['friend4']\n",
      "Current Visited Vertex:- ['friend1', 'friend2', 'friend3', 'friend4', 'friend5']\n",
      "Poped Vertex:- friend4\n",
      "--------------------------------------\n"
     ]
    }
   ],
   "source": [
    "newgraph.dfs('friend1')"
   ]
  },
  {
   "cell_type": "code",
   "execution_count": null,
   "id": "7ee5a145",
   "metadata": {},
   "outputs": [],
   "source": []
  }
 ],
 "metadata": {
  "kernelspec": {
   "display_name": "Python 3",
   "language": "python",
   "name": "python3"
  },
  "language_info": {
   "codemirror_mode": {
    "name": "ipython",
    "version": 3
   },
   "file_extension": ".py",
   "mimetype": "text/x-python",
   "name": "python",
   "nbconvert_exporter": "python",
   "pygments_lexer": "ipython3",
   "version": "3.8.8"
  }
 },
 "nbformat": 4,
 "nbformat_minor": 5
}
