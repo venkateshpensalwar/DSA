{
 "cells": [
  {
   "cell_type": "code",
   "execution_count": 3,
   "metadata": {},
   "outputs": [],
   "source": [
    "class Tree:\n",
    "    def __init__(self,data):\n",
    "        self.data = data\n",
    "        self.left = None\n",
    "        self.right = None\n",
    "\n",
    "    def leftchild(self,leftaddress):\n",
    "        self.left = leftaddress\n",
    "    \n",
    "    def rightchild(self,rightaddress):\n",
    "        self.right = rightaddress\n"
   ]
  },
  {
   "cell_type": "code",
   "execution_count": 4,
   "metadata": {},
   "outputs": [],
   "source": [
    "Root = Tree(\"1\")"
   ]
  },
  {
   "cell_type": "code",
   "execution_count": 5,
   "metadata": {},
   "outputs": [],
   "source": [
    "left1 = Tree(\"2\")"
   ]
  },
  {
   "cell_type": "code",
   "execution_count": 6,
   "metadata": {},
   "outputs": [],
   "source": [
    "Right1 = Tree(\"3\")\n"
   ]
  },
  {
   "cell_type": "code",
   "execution_count": 7,
   "metadata": {},
   "outputs": [],
   "source": [
    "Root.leftchild(left1)"
   ]
  },
  {
   "cell_type": "code",
   "execution_count": 8,
   "metadata": {},
   "outputs": [],
   "source": [
    "Root.rightchild(Right1)"
   ]
  },
  {
   "cell_type": "code",
   "execution_count": 9,
   "metadata": {},
   "outputs": [
    {
     "data": {
      "text/plain": [
       "{'data': '1',\n",
       " 'left': <__main__.Tree at 0x1f50f218970>,\n",
       " 'right': <__main__.Tree at 0x1f50f218820>}"
      ]
     },
     "execution_count": 9,
     "metadata": {},
     "output_type": "execute_result"
    }
   ],
   "source": [
    "Root.__dict__"
   ]
  },
  {
   "cell_type": "code",
   "execution_count": 10,
   "metadata": {},
   "outputs": [],
   "source": [
    "left2 = Tree(\"4\")\n",
    "left3 = Tree(\"5\")"
   ]
  },
  {
   "cell_type": "code",
   "execution_count": 11,
   "metadata": {},
   "outputs": [],
   "source": [
    "left1.leftchild(left2)"
   ]
  },
  {
   "cell_type": "code",
   "execution_count": 12,
   "metadata": {},
   "outputs": [],
   "source": [
    "left1.rightchild(left3)"
   ]
  },
  {
   "cell_type": "code",
   "execution_count": 13,
   "metadata": {},
   "outputs": [
    {
     "data": {
      "text/plain": [
       "{'data': '2',\n",
       " 'left': <__main__.Tree at 0x1f50f218c10>,\n",
       " 'right': <__main__.Tree at 0x1f50f218eb0>}"
      ]
     },
     "execution_count": 13,
     "metadata": {},
     "output_type": "execute_result"
    }
   ],
   "source": [
    "left1.__dict__"
   ]
  },
  {
   "cell_type": "code",
   "execution_count": 60,
   "metadata": {},
   "outputs": [],
   "source": [
    "## importing collection queue for easy use\n",
    "from collections import deque\n",
    "\n",
    "\n",
    "def LevelOrderTraversal(RootAddress):\n",
    "    \n",
    "    queue = deque()\n",
    "    queue.append(RootAddress)\n",
    "    while len(queue)!= 0:\n",
    "        remove = queue.popleft()\n",
    "        print(remove.data,end=\" -> \")  \n",
    "        \n",
    "        if remove.left is not None:\n",
    "            queue.append(remove.left)\n",
    "        if remove.right is not None:\n",
    "            queue.append(remove.right)\n",
    "        ##print(queue)\n",
    "            \n"
   ]
  },
  {
   "cell_type": "code",
   "execution_count": 61,
   "metadata": {},
   "outputs": [
    {
     "name": "stdout",
     "output_type": "stream",
     "text": [
      "1 -> 2 -> 3 -> 4 -> 5 -> "
     ]
    }
   ],
   "source": [
    "LevelOrderTraversal(Root)"
   ]
  },
  {
   "cell_type": "code",
   "execution_count": 62,
   "metadata": {},
   "outputs": [
    {
     "name": "stdout",
     "output_type": "stream",
     "text": [
      "Help on method_descriptor:\n",
      "\n",
      "popleft(...)\n",
      "    Remove and return the leftmost element.\n",
      "\n"
     ]
    }
   ],
   "source": [
    "help(deque.popleft)"
   ]
  },
  {
   "cell_type": "code",
   "execution_count": 63,
   "metadata": {
    "scrolled": true
   },
   "outputs": [
    {
     "name": "stdout",
     "output_type": "stream",
     "text": [
      "Help on class deque in module collections:\n",
      "\n",
      "class deque(builtins.object)\n",
      " |  deque([iterable[, maxlen]]) --> deque object\n",
      " |  \n",
      " |  A list-like sequence optimized for data accesses near its endpoints.\n",
      " |  \n",
      " |  Methods defined here:\n",
      " |  \n",
      " |  __add__(self, value, /)\n",
      " |      Return self+value.\n",
      " |  \n",
      " |  __bool__(self, /)\n",
      " |      self != 0\n",
      " |  \n",
      " |  __contains__(self, key, /)\n",
      " |      Return key in self.\n",
      " |  \n",
      " |  __copy__(...)\n",
      " |      Return a shallow copy of a deque.\n",
      " |  \n",
      " |  __delitem__(self, key, /)\n",
      " |      Delete self[key].\n",
      " |  \n",
      " |  __eq__(self, value, /)\n",
      " |      Return self==value.\n",
      " |  \n",
      " |  __ge__(self, value, /)\n",
      " |      Return self>=value.\n",
      " |  \n",
      " |  __getattribute__(self, name, /)\n",
      " |      Return getattr(self, name).\n",
      " |  \n",
      " |  __getitem__(self, key, /)\n",
      " |      Return self[key].\n",
      " |  \n",
      " |  __gt__(self, value, /)\n",
      " |      Return self>value.\n",
      " |  \n",
      " |  __iadd__(self, value, /)\n",
      " |      Implement self+=value.\n",
      " |  \n",
      " |  __imul__(self, value, /)\n",
      " |      Implement self*=value.\n",
      " |  \n",
      " |  __init__(self, /, *args, **kwargs)\n",
      " |      Initialize self.  See help(type(self)) for accurate signature.\n",
      " |  \n",
      " |  __iter__(self, /)\n",
      " |      Implement iter(self).\n",
      " |  \n",
      " |  __le__(self, value, /)\n",
      " |      Return self<=value.\n",
      " |  \n",
      " |  __len__(self, /)\n",
      " |      Return len(self).\n",
      " |  \n",
      " |  __lt__(self, value, /)\n",
      " |      Return self<value.\n",
      " |  \n",
      " |  __mul__(self, value, /)\n",
      " |      Return self*value.\n",
      " |  \n",
      " |  __ne__(self, value, /)\n",
      " |      Return self!=value.\n",
      " |  \n",
      " |  __reduce__(...)\n",
      " |      Return state information for pickling.\n",
      " |  \n",
      " |  __repr__(self, /)\n",
      " |      Return repr(self).\n",
      " |  \n",
      " |  __reversed__(...)\n",
      " |      D.__reversed__() -- return a reverse iterator over the deque\n",
      " |  \n",
      " |  __rmul__(self, value, /)\n",
      " |      Return value*self.\n",
      " |  \n",
      " |  __setitem__(self, key, value, /)\n",
      " |      Set self[key] to value.\n",
      " |  \n",
      " |  __sizeof__(...)\n",
      " |      D.__sizeof__() -- size of D in memory, in bytes\n",
      " |  \n",
      " |  append(...)\n",
      " |      Add an element to the right side of the deque.\n",
      " |  \n",
      " |  appendleft(...)\n",
      " |      Add an element to the left side of the deque.\n",
      " |  \n",
      " |  clear(...)\n",
      " |      Remove all elements from the deque.\n",
      " |  \n",
      " |  copy(...)\n",
      " |      Return a shallow copy of a deque.\n",
      " |  \n",
      " |  count(...)\n",
      " |      D.count(value) -> integer -- return number of occurrences of value\n",
      " |  \n",
      " |  extend(...)\n",
      " |      Extend the right side of the deque with elements from the iterable\n",
      " |  \n",
      " |  extendleft(...)\n",
      " |      Extend the left side of the deque with elements from the iterable\n",
      " |  \n",
      " |  index(...)\n",
      " |      D.index(value, [start, [stop]]) -> integer -- return first index of value.\n",
      " |      Raises ValueError if the value is not present.\n",
      " |  \n",
      " |  insert(...)\n",
      " |      D.insert(index, object) -- insert object before index\n",
      " |  \n",
      " |  pop(...)\n",
      " |      Remove and return the rightmost element.\n",
      " |  \n",
      " |  popleft(...)\n",
      " |      Remove and return the leftmost element.\n",
      " |  \n",
      " |  remove(...)\n",
      " |      D.remove(value) -- remove first occurrence of value.\n",
      " |  \n",
      " |  reverse(...)\n",
      " |      D.reverse() -- reverse *IN PLACE*\n",
      " |  \n",
      " |  rotate(...)\n",
      " |      Rotate the deque n steps to the right (default n=1).  If n is negative, rotates left.\n",
      " |  \n",
      " |  ----------------------------------------------------------------------\n",
      " |  Static methods defined here:\n",
      " |  \n",
      " |  __new__(*args, **kwargs) from builtins.type\n",
      " |      Create and return a new object.  See help(type) for accurate signature.\n",
      " |  \n",
      " |  ----------------------------------------------------------------------\n",
      " |  Data descriptors defined here:\n",
      " |  \n",
      " |  maxlen\n",
      " |      maximum size of a deque or None if unbounded\n",
      " |  \n",
      " |  ----------------------------------------------------------------------\n",
      " |  Data and other attributes defined here:\n",
      " |  \n",
      " |  __hash__ = None\n",
      "\n"
     ]
    }
   ],
   "source": [
    "help(deque)"
   ]
  },
  {
   "cell_type": "code",
   "execution_count": null,
   "metadata": {},
   "outputs": [],
   "source": []
  },
  {
   "cell_type": "code",
   "execution_count": null,
   "metadata": {},
   "outputs": [],
   "source": []
  }
 ],
 "metadata": {
  "kernelspec": {
   "display_name": "Python 3",
   "language": "python",
   "name": "python3"
  },
  "language_info": {
   "codemirror_mode": {
    "name": "ipython",
    "version": 3
   },
   "file_extension": ".py",
   "mimetype": "text/x-python",
   "name": "python",
   "nbconvert_exporter": "python",
   "pygments_lexer": "ipython3",
   "version": "3.8.3"
  }
 },
 "nbformat": 4,
 "nbformat_minor": 4
}
