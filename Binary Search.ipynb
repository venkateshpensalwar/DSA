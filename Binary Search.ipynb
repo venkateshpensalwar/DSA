{
 "cells": [
  {
   "cell_type": "markdown",
   "metadata": {},
   "source": [
    "# Binary Search"
   ]
  },
  {
   "cell_type": "code",
   "execution_count": 33,
   "metadata": {},
   "outputs": [],
   "source": [
    "# binary search algorithm\n",
    "\n",
    "import math\n",
    "\n",
    "def BinarySearch(arr,key):\n",
    "    \n",
    "        first = 0                         ## First element of arr \n",
    "\n",
    "        last = len(arr)-1                 ## Last element of arr\n",
    "        \n",
    "        mid = math.ceil((first+last)/2)   ## we can use math.floor() as well\n",
    "            \n",
    "        while arr[mid] != key and (first <= last):           ## Go inside only when mid element not equl to key \n",
    "                                                             ## and first and last is not equal\n",
    "            \n",
    "            if(key > arr[mid]):\n",
    "                \n",
    "                first = arr[mid] + 1            ## if key is greater than mid element\n",
    "                \n",
    "                print(\"first=\",first,\"last=\",last,\"mid=\",arr[mid])\n",
    "            \n",
    "            else:\n",
    "                \n",
    "                last = arr[mid] - 1             ## if key is less than mid element\n",
    "                \n",
    "                print(\"first=\",first,\"last=\",last,\"mid=\",arr[mid])\n",
    "            \n",
    "            mid = int((first + last)/2)\n",
    "            \n",
    "           \n",
    "        \n",
    "        if arr[mid] == key :\n",
    "            \n",
    "            return \"Element is found at index {}\".format(mid)\n",
    "        \n",
    "        else:\n",
    "            \n",
    "            return \"Given Element not found in array\"    \n",
    "        \n",
    "## BinarySearch(arr,key)"
   ]
  },
  {
   "cell_type": "code",
   "execution_count": 34,
   "metadata": {},
   "outputs": [
    {
     "name": "stdout",
     "output_type": "stream",
     "text": [
      "first= 6 last= 8 mid= 5\n",
      "first= 9 last= 8 mid= 8\n"
     ]
    },
    {
     "data": {
      "text/plain": [
       "'Element is found at index 8'"
      ]
     },
     "execution_count": 34,
     "metadata": {},
     "output_type": "execute_result"
    }
   ],
   "source": [
    "BinarySearch([1,2,3,4,5,6,7,8,10],10)"
   ]
  },
  {
   "cell_type": "markdown",
   "metadata": {},
   "source": [
    "#  Time complexity"
   ]
  },
  {
   "cell_type": "markdown",
   "metadata": {},
   "source": [
    "### Worst-case performance: O(log n)"
   ]
  },
  {
   "cell_type": "markdown",
   "metadata": {},
   "source": [
    "### Best-case performance: Ω(1)"
   ]
  },
  {
   "cell_type": "markdown",
   "metadata": {},
   "source": [
    "### Average-case performance: θ(log n)"
   ]
  },
  {
   "cell_type": "code",
   "execution_count": null,
   "metadata": {},
   "outputs": [],
   "source": []
  }
 ],
 "metadata": {
  "kernelspec": {
   "display_name": "Python 3",
   "language": "python",
   "name": "python3"
  },
  "language_info": {
   "codemirror_mode": {
    "name": "ipython",
    "version": 3
   },
   "file_extension": ".py",
   "mimetype": "text/x-python",
   "name": "python",
   "nbconvert_exporter": "python",
   "pygments_lexer": "ipython3",
   "version": "3.8.3"
  }
 },
 "nbformat": 4,
 "nbformat_minor": 4
}
