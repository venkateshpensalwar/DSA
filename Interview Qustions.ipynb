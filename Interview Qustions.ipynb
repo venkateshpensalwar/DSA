{
 "cells": [
  {
   "cell_type": "code",
   "execution_count": 25,
   "metadata": {},
   "outputs": [
    {
     "name": "stdout",
     "output_type": "stream",
     "text": [
      "venkatesh\n",
      "venkatesh\n",
      "venkatesh\n",
      "venkatesh\n",
      "venkatesh\n",
      "venkatesh\n",
      "venkatesh\n",
      "venkatesh\n",
      "venkatesh\n",
      "venkatesh\n"
     ]
    }
   ],
   "source": [
    "## print your name 10 time without using loops\n",
    "\n",
    "def count(number1):\n",
    "    number1 += 1\n",
    "\n",
    "    print(\"venkatesh\")\n",
    "    if number1 < 10:\n",
    "        count(number1)\n",
    "    else:\n",
    "        return 0\n",
    "     \n",
    "count(0)\n",
    "  "
   ]
  },
  {
   "cell_type": "code",
   "execution_count": 39,
   "metadata": {},
   "outputs": [
    {
     "name": "stdout",
     "output_type": "stream",
     "text": [
      "Not a prime number\n"
     ]
    }
   ],
   "source": [
    "## find following number is prime or not\n",
    "\n",
    "def prime(number):\n",
    "    count = 0\n",
    "    for i in range(1,number+1):\n",
    "        if number%i == 0:\n",
    "            count +=1\n",
    "    if count == 2:\n",
    "        print(\"it is Prime number\")\n",
    "    else:\n",
    "        print(\"Not a prime number\")\n",
    "        \n",
    "prime(18)"
   ]
  },
  {
   "cell_type": "code",
   "execution_count": null,
   "metadata": {},
   "outputs": [],
   "source": []
  },
  {
   "cell_type": "code",
   "execution_count": null,
   "metadata": {},
   "outputs": [],
   "source": []
  }
 ],
 "metadata": {
  "kernelspec": {
   "display_name": "Python 3",
   "language": "python",
   "name": "python3"
  },
  "language_info": {
   "codemirror_mode": {
    "name": "ipython",
    "version": 3
   },
   "file_extension": ".py",
   "mimetype": "text/x-python",
   "name": "python",
   "nbconvert_exporter": "python",
   "pygments_lexer": "ipython3",
   "version": "3.8.3"
  }
 },
 "nbformat": 4,
 "nbformat_minor": 4
}
