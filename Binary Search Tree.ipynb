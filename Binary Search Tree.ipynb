{
 "cells": [
  {
   "cell_type": "code",
   "execution_count": null,
   "metadata": {},
   "outputs": [],
   "source": [
    "class BST:\n",
    "    def __init__(self,data):\n",
    "        self.data = data\n",
    "        self.leftchild = None\n",
    "        self.rightchild = None"
   ]
  },
  {
   "cell_type": "code",
   "execution_count": null,
   "metadata": {},
   "outputs": [],
   "source": [
    "Root = BST(None)"
   ]
  },
  {
   "cell_type": "code",
   "execution_count": null,
   "metadata": {},
   "outputs": [],
   "source": [
    "## In Binary search tree we check following conditions\n",
    "# 1. left side should be less than his RootNode\n",
    "# 2. Right side should be grater than his RootNode\n",
    "\n",
    "def insertNode(NodeAddress,NodeValue):\n",
    "    if NodeAddress.data is None:\n",
    "        NodeAddress.data = NodeValue\n",
    "    elif NodeValue <= NodeAddress.data:\n",
    "        if NodeAddress.leftchild is None:\n",
    "            NodeAddress.leftchild = BST(NodeValue)\n",
    "        else:\n",
    "             insertNode(NodeAddress.leftchild,NodeValue)\n",
    "    else:\n",
    "        if NodeAddress.rightchild is None:\n",
    "            NodeAddress.rightchild = BST(NodeValue)\n",
    "        else:\n",
    "             insertNode(NodeAddress.rightchild,NodeValue)\n",
    "                \n",
    "    return \"Node inserted sucessfully..\""
   ]
  },
  {
   "cell_type": "code",
   "execution_count": null,
   "metadata": {},
   "outputs": [],
   "source": [
    "insertNode(Root,80)\n",
    "insertNode(Root,60)\n",
    "insertNode(Root,100)\n",
    "insertNode(Root,53)"
   ]
  },
  {
   "cell_type": "code",
   "execution_count": null,
   "metadata": {},
   "outputs": [],
   "source": [
    "def InOrderTraversal(Root):\n",
    "    if not Root:\n",
    "        return\n",
    "    InOrderTraversal(Root.leftchild)\n",
    "    print(Root.data)\n",
    "    InOrderTraversal(Root.rightchild) "
   ]
  },
  {
   "cell_type": "code",
   "execution_count": null,
   "metadata": {},
   "outputs": [],
   "source": [
    "InOrderTraversal(Root)"
   ]
  },
  {
   "cell_type": "code",
   "execution_count": null,
   "metadata": {},
   "outputs": [],
   "source": [
    "Root.leftchild.leftchild.data"
   ]
  },
  {
   "cell_type": "code",
   "execution_count": null,
   "metadata": {},
   "outputs": [],
   "source": []
  }
 ],
 "metadata": {
  "kernelspec": {
   "display_name": "Python 3",
   "language": "python",
   "name": "python3"
  },
  "language_info": {
   "codemirror_mode": {
    "name": "ipython",
    "version": 3
   },
   "file_extension": ".py",
   "mimetype": "text/x-python",
   "name": "python",
   "nbconvert_exporter": "python",
   "pygments_lexer": "ipython3",
   "version": "3.8.3"
  }
 },
 "nbformat": 4,
 "nbformat_minor": 4
}
