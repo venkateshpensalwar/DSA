{
 "cells": [
  {
   "cell_type": "markdown",
   "metadata": {},
   "source": [
    "# Bubble Sort"
   ]
  },
  {
   "cell_type": "code",
   "execution_count": 1,
   "metadata": {},
   "outputs": [],
   "source": [
    "# Bubble sort algorithm\n",
    "\n",
    "\n",
    "def BubbleSort(arr):\n",
    "    \n",
    "    isswap = False\n",
    "    \n",
    "    for i in range(0,len(arr)-1):\n",
    "        \n",
    "        print(\"Loop Number : \",i,\"\\n\")           ## Loop or pass number starting from 0 to end of range\n",
    "        \n",
    "        for second in range(len(arr)-1-i):\n",
    "            \n",
    "            if(arr[second] > arr[second+1]):\n",
    "                \n",
    "                        arr[second],arr[second+1] = arr[second+1],arr[second]   ## swapping function if left > right element\n",
    "                    \n",
    "                        print(\"-------------------\")\n",
    "                        print(\"swapping done : \",arr)\n",
    "                        print(\"-------------------\\n\")\n",
    "                        \n",
    "                        isswap = True                                       ## isswap is True because swapping done\n",
    "                        \n",
    "            if not (isswap):                                ## condition will true if no swap done that means array is sorted\n",
    "                \n",
    "                print (\"Already sorted\")\n",
    "                \n",
    "                return arr\n",
    "                        \n",
    "        print(\"Loop Number : \",i,\" Finshed \\n\")\n",
    "        \n",
    "    return arr \n",
    "    \n",
    "     "
   ]
  },
  {
   "cell_type": "code",
   "execution_count": 2,
   "metadata": {},
   "outputs": [
    {
     "name": "stdout",
     "output_type": "stream",
     "text": [
      "Loop Number :  0 \n",
      "\n",
      "Already sorted\n"
     ]
    },
    {
     "data": {
      "text/plain": [
       "[1, 2, 5]"
      ]
     },
     "execution_count": 2,
     "metadata": {},
     "output_type": "execute_result"
    }
   ],
   "source": [
    "## When array is sorted\n",
    "\n",
    "BubbleSort([1,2,5])"
   ]
  },
  {
   "cell_type": "code",
   "execution_count": 3,
   "metadata": {},
   "outputs": [
    {
     "name": "stdout",
     "output_type": "stream",
     "text": [
      "Loop Number :  0 \n",
      "\n",
      "-------------------\n",
      "swapping done :  [5, 12, 18, 5, 2]\n",
      "-------------------\n",
      "\n",
      "-------------------\n",
      "swapping done :  [5, 12, 5, 18, 2]\n",
      "-------------------\n",
      "\n",
      "-------------------\n",
      "swapping done :  [5, 12, 5, 2, 18]\n",
      "-------------------\n",
      "\n",
      "Loop Number :  0  Finshed \n",
      "\n",
      "Loop Number :  1 \n",
      "\n",
      "-------------------\n",
      "swapping done :  [5, 5, 12, 2, 18]\n",
      "-------------------\n",
      "\n",
      "-------------------\n",
      "swapping done :  [5, 5, 2, 12, 18]\n",
      "-------------------\n",
      "\n",
      "Loop Number :  1  Finshed \n",
      "\n",
      "Loop Number :  2 \n",
      "\n",
      "-------------------\n",
      "swapping done :  [5, 2, 5, 12, 18]\n",
      "-------------------\n",
      "\n",
      "Loop Number :  2  Finshed \n",
      "\n",
      "Loop Number :  3 \n",
      "\n",
      "-------------------\n",
      "swapping done :  [2, 5, 5, 12, 18]\n",
      "-------------------\n",
      "\n",
      "Loop Number :  3  Finshed \n",
      "\n"
     ]
    },
    {
     "data": {
      "text/plain": [
       "[2, 5, 5, 12, 18]"
      ]
     },
     "execution_count": 3,
     "metadata": {},
     "output_type": "execute_result"
    }
   ],
   "source": [
    "## when array is not sorted\n",
    "\n",
    "BubbleSort([12,5,18,5,2])"
   ]
  },
  {
   "cell_type": "markdown",
   "metadata": {},
   "source": [
    "# Time Complexity"
   ]
  },
  {
   "cell_type": "markdown",
   "metadata": {},
   "source": [
    "### Worst-case performance: O(n<sup>2</sup>)"
   ]
  },
  {
   "cell_type": "markdown",
   "metadata": {},
   "source": [
    "### Best-case performance: Ω(n)"
   ]
  },
  {
   "cell_type": "markdown",
   "metadata": {},
   "source": [
    "### Average-case performance: θ(n<sup>2</sup>)"
   ]
  },
  {
   "cell_type": "code",
   "execution_count": null,
   "metadata": {},
   "outputs": [],
   "source": []
  }
 ],
 "metadata": {
  "kernelspec": {
   "display_name": "Python 3",
   "language": "python",
   "name": "python3"
  },
  "language_info": {
   "codemirror_mode": {
    "name": "ipython",
    "version": 3
   },
   "file_extension": ".py",
   "mimetype": "text/x-python",
   "name": "python",
   "nbconvert_exporter": "python",
   "pygments_lexer": "ipython3",
   "version": "3.8.3"
  }
 },
 "nbformat": 4,
 "nbformat_minor": 4
}
