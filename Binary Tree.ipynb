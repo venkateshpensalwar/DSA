{
 "cells": [
  {
   "cell_type": "code",
   "execution_count": 1,
   "metadata": {},
   "outputs": [],
   "source": [
    "class Tree:\n",
    "    def __init__(self,data):\n",
    "        self.data = data\n",
    "        self.leftchild = None\n",
    "        self.rightchild = None"
   ]
  },
  {
   "cell_type": "code",
   "execution_count": 2,
   "metadata": {},
   "outputs": [],
   "source": [
    "Root = Tree(\"Drinks\")"
   ]
  },
  {
   "cell_type": "code",
   "execution_count": 3,
   "metadata": {},
   "outputs": [
    {
     "data": {
      "text/plain": [
       "<__main__.Tree at 0x239fd3d8130>"
      ]
     },
     "execution_count": 3,
     "metadata": {},
     "output_type": "execute_result"
    }
   ],
   "source": [
    "Root"
   ]
  },
  {
   "cell_type": "code",
   "execution_count": 4,
   "metadata": {},
   "outputs": [],
   "source": [
    "leftchild = Tree(\"Hot\")\n",
    "rightchild = Tree(\"cold\")"
   ]
  },
  {
   "cell_type": "code",
   "execution_count": 5,
   "metadata": {},
   "outputs": [
    {
     "data": {
      "text/plain": [
       "{'data': 'Drinks', 'leftchild': None, 'rightchild': None}"
      ]
     },
     "execution_count": 5,
     "metadata": {},
     "output_type": "execute_result"
    }
   ],
   "source": [
    "Root.__dict__"
   ]
  },
  {
   "cell_type": "code",
   "execution_count": 6,
   "metadata": {},
   "outputs": [],
   "source": [
    "Root.leftchild = leftchild\n",
    "Root.rightchild = rightchild"
   ]
  },
  {
   "cell_type": "code",
   "execution_count": 10,
   "metadata": {},
   "outputs": [],
   "source": [
    "## Pre order transversal (Root --> Left --> Right)\n",
    "\n",
    "def PreOrderTraversal(Root):\n",
    "    if not Root:\n",
    "        return \n",
    "    print(Root.data)\n",
    "    PreOrderTraversal(Root.leftchild)\n",
    "    PreOrderTraversal(Root.rightchild)"
   ]
  },
  {
   "cell_type": "code",
   "execution_count": 11,
   "metadata": {},
   "outputs": [
    {
     "name": "stdout",
     "output_type": "stream",
     "text": [
      "Drinks\n",
      "Hot\n",
      "cold\n"
     ]
    }
   ],
   "source": [
    "PreOrderTraversal(Root)"
   ]
  },
  {
   "cell_type": "code",
   "execution_count": 12,
   "metadata": {},
   "outputs": [],
   "source": [
    "## post order transversal (Left --> Right --> Root)\n",
    "\n",
    "def PostOrderTraversal(Root):\n",
    "    if not Root:\n",
    "        return\n",
    "    PostOrderTraversal(Root.leftchild)\n",
    "    PostOrderTraversal(Root.rightchild)\n",
    "    print(Root.data)"
   ]
  },
  {
   "cell_type": "code",
   "execution_count": 13,
   "metadata": {},
   "outputs": [
    {
     "name": "stdout",
     "output_type": "stream",
     "text": [
      "Hot\n",
      "cold\n",
      "Drinks\n"
     ]
    }
   ],
   "source": [
    "PostOrderTraversal(Root)"
   ]
  },
  {
   "cell_type": "code",
   "execution_count": 14,
   "metadata": {},
   "outputs": [],
   "source": [
    "##  inorder transversal (Left --> Root --> Right)\n",
    "def InOrderTraversal(Root):\n",
    "    if not Root:\n",
    "        return\n",
    "    InOrderTraversal(Root.leftchild)\n",
    "    print(Root.data)\n",
    "    InOrderTraversal(Root.rightchild)   "
   ]
  },
  {
   "cell_type": "code",
   "execution_count": 15,
   "metadata": {},
   "outputs": [
    {
     "name": "stdout",
     "output_type": "stream",
     "text": [
      "Hot\n",
      "Drinks\n",
      "cold\n"
     ]
    }
   ],
   "source": [
    "InOrderTraversal(Root)"
   ]
  },
  {
   "cell_type": "code",
   "execution_count": 21,
   "metadata": {},
   "outputs": [
    {
     "name": "stdout",
     "output_type": "stream",
     "text": [
      "None\n"
     ]
    }
   ],
   "source": [
    "## main logic how it is working\n",
    "if not Root.leftchild.leftchild.leftchild:\n",
    "    print(Root.leftchild.leftchild.leftchild)"
   ]
  },
  {
   "cell_type": "code",
   "execution_count": 20,
   "metadata": {},
   "outputs": [
    {
     "data": {
      "text/plain": [
       "{'data': 'Hot',\n",
       " 'leftchild': <__main__.Tree at 0x239fd428cd0>,\n",
       " 'rightchild': <__main__.Tree at 0x239fd428e80>}"
      ]
     },
     "execution_count": 20,
     "metadata": {},
     "output_type": "execute_result"
    }
   ],
   "source": [
    "leftchild.__dict__"
   ]
  },
  {
   "cell_type": "code",
   "execution_count": 18,
   "metadata": {},
   "outputs": [],
   "source": [
    "secondleft = Tree(\"Tea\")\n",
    "leftchild.leftchild = secondleft\n",
    "\n",
    "secondright = Tree(\"coffe\")\n",
    "leftchild.rightchild = secondright"
   ]
  },
  {
   "cell_type": "code",
   "execution_count": 19,
   "metadata": {},
   "outputs": [
    {
     "name": "stdout",
     "output_type": "stream",
     "text": [
      "Drinks\n",
      "Hot\n",
      "Tea\n",
      "coffe\n",
      "cold\n"
     ]
    }
   ],
   "source": [
    "PreOrderTraversal(Root)"
   ]
  },
  {
   "cell_type": "code",
   "execution_count": null,
   "metadata": {},
   "outputs": [],
   "source": []
  }
 ],
 "metadata": {
  "kernelspec": {
   "display_name": "Python 3",
   "language": "python",
   "name": "python3"
  },
  "language_info": {
   "codemirror_mode": {
    "name": "ipython",
    "version": 3
   },
   "file_extension": ".py",
   "mimetype": "text/x-python",
   "name": "python",
   "nbconvert_exporter": "python",
   "pygments_lexer": "ipython3",
   "version": "3.8.3"
  }
 },
 "nbformat": 4,
 "nbformat_minor": 4
}
